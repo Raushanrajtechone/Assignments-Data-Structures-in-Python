{
  "nbformat": 4,
  "nbformat_minor": 0,
  "metadata": {
    "colab": {
      "provenance": []
    },
    "kernelspec": {
      "name": "python3",
      "display_name": "Python 3"
    },
    "language_info": {
      "name": "python"
    }
  },
  "cells": [
    {
      "cell_type": "code",
      "execution_count": 1,
      "metadata": {
        "colab": {
          "base_uri": "https://localhost:8080/"
        },
        "id": "7UNNYnFzh19C",
        "outputId": "fd10214b-fdb4-41d3-99bc-22396d17b959"
      },
      "outputs": [
        {
          "output_type": "stream",
          "name": "stdout",
          "text": [
            "olleh\n"
          ]
        }
      ],
      "source": [
        "#1. Write a code to reverse a string?\n",
        "def reverse_string(s):\n",
        "  return s[::-1]\n",
        "print(reverse_string(\"hello\"))"
      ]
    },
    {
      "cell_type": "code",
      "source": [
        "# 2. Write a code to count the number of vowels in a string?\n",
        "def count_vowels(s):\n",
        "  vowels = \"aeiouAEIOU\"\n",
        "  return sum(1 for char in s if char in vowels)\n",
        "print(count_vowels(\"hello world\"))\n"
      ],
      "metadata": {
        "colab": {
          "base_uri": "https://localhost:8080/"
        },
        "id": "Q8CGA5g10YX6",
        "outputId": "113a5e5b-a88a-4e84-d350-88f2a40e96c6"
      },
      "execution_count": 2,
      "outputs": [
        {
          "output_type": "stream",
          "name": "stdout",
          "text": [
            "3\n"
          ]
        }
      ]
    },
    {
      "cell_type": "code",
      "source": [
        "#3. Write a code to check if a given string is a palindrome or not?\n",
        "def is_palindrome(s):\n",
        "  return s == s[::-1]\n",
        "print(is_palindrome(\"radar\"))\n",
        "print(is_palindrome(\"hello\"))"
      ],
      "metadata": {
        "colab": {
          "base_uri": "https://localhost:8080/"
        },
        "id": "z_YZeDn-1cep",
        "outputId": "13336f54-fe2e-44f8-9879-61841ad24590"
      },
      "execution_count": 3,
      "outputs": [
        {
          "output_type": "stream",
          "name": "stdout",
          "text": [
            "True\n",
            "False\n"
          ]
        }
      ]
    },
    {
      "cell_type": "code",
      "source": [
        "#4. Write a code to check if two given strings are anagrams of each other?\n",
        "def are_anagrams(s1, s2):\n",
        "  return sorted(s1) == sorted(s2)\n",
        "\n",
        "print(are_anagrams(\"listen\", \"silent\"))\n",
        "print(are_anagrams(\"hello\", \"world\"))\n"
      ],
      "metadata": {
        "colab": {
          "base_uri": "https://localhost:8080/"
        },
        "id": "NKsC8GC_2HoQ",
        "outputId": "d0027191-b770-447a-e815-1ee857f46374"
      },
      "execution_count": 9,
      "outputs": [
        {
          "output_type": "stream",
          "name": "stdout",
          "text": [
            "True\n",
            "False\n"
          ]
        }
      ]
    },
    {
      "cell_type": "code",
      "source": [
        "#5. Write a code to find all occurrences of a given substring within another string?\n",
        "def find_substring_occurrences(s, sub):\n",
        "  return [i for i in range(len(s)) if s.startswith(sub, i)]\n",
        "\n",
        "print(find_substring_occurrences(\"hello hello hello\", \"lo\"))\n"
      ],
      "metadata": {
        "colab": {
          "base_uri": "https://localhost:8080/"
        },
        "id": "77vZ8WEZ3BLB",
        "outputId": "2559f98f-6e32-4415-a755-a9d5a00e216e"
      },
      "execution_count": 10,
      "outputs": [
        {
          "output_type": "stream",
          "name": "stdout",
          "text": [
            "[3, 9, 15]\n"
          ]
        }
      ]
    },
    {
      "cell_type": "code",
      "source": [
        "# 6. Write a code to perform basic string compression using the counts of repeated characters?\n",
        "def compress_string(s):\n",
        "  compressed = []\n",
        "  count = 1\n",
        "  for i in range(1, len(s)):\n",
        "    if s[i] == s[i - 1]:\n",
        "      count += 1\n",
        "    else:\n",
        "      compressed.append(s[i - 1] + str(count))\n",
        "      count = 1\n",
        "      compressed.append(s[-1] + str(count))\n",
        "      return ''.join(compressed)\n",
        "\n",
        "print(compress_string(\"aaabbcccc\"))\n",
        "\n",
        "\n",
        "def compress_string(s):\n",
        "  compressed = []\n",
        "  count = 1\n",
        "  for i in range(1, len(s)):\n",
        "    if s[i] == s[i - 1]:\n",
        "      count += 1\n",
        "    else:\n",
        "      compressed.append(s[i - 1] + str(count))\n",
        "    count = 1\n",
        "    compressed.append(s[-1] + str(count))\n",
        "    compressed.append(s[-1] + str(count))\n",
        "    return ''.join(compressed)\n",
        "\n",
        "print(compress_string(\"aaabbcccc\"))\n"
      ],
      "metadata": {
        "colab": {
          "base_uri": "https://localhost:8080/"
        },
        "id": "9iqE2XW33egk",
        "outputId": "83593f54-952e-4355-99f7-1e2ce415feb2"
      },
      "execution_count": 18,
      "outputs": [
        {
          "output_type": "stream",
          "name": "stdout",
          "text": [
            "a3c1\n",
            "c1c1\n"
          ]
        }
      ]
    },
    {
      "cell_type": "code",
      "source": [
        "#7. Write a code to determine if a string has all unique characters?\n",
        "def has_unique_chars(s):\n",
        "  return len(set(s)) == len(s)\n",
        "print(has_unique_chars(\"abcdef\"))\n",
        "print(has_unique_chars(\"hello\"))\n"
      ],
      "metadata": {
        "colab": {
          "base_uri": "https://localhost:8080/"
        },
        "id": "x2BZVASn5sl3",
        "outputId": "cffb1741-4c42-4dcb-912d-b16029276f31"
      },
      "execution_count": 19,
      "outputs": [
        {
          "output_type": "stream",
          "name": "stdout",
          "text": [
            "True\n",
            "False\n"
          ]
        }
      ]
    },
    {
      "cell_type": "markdown",
      "source": [
        "8. Write a code to convert a given string to uppercase or lowercase?"
      ],
      "metadata": {
        "id": "mbv4TT_GAOZT"
      }
    },
    {
      "cell_type": "code",
      "source": [
        "def to_uppercase(s):\n",
        "  return s.upper()\n",
        "\n",
        "def to_lowercase(s):\n",
        "  return s.lower()\n",
        "\n",
        "print(to_uppercase(\"hello\"))\n",
        "print(to_lowercase(\"HELLO\"))\n",
        "\n",
        "def convert_case(s, case):\n",
        "  if case == \"upper\":\n",
        "    return s.upper()\n",
        "  elif case == \"lower\":\n",
        "    return s.lower()\n",
        "  else:\n",
        "    return \"Invalid case\"\n",
        "print(convert_case(\"hello\", \"upper\"))\n",
        "print(convert_case(\"HELLO\", \"lower\"))\n",
        "print(convert_case(\"hello\", \"invalid\"))"
      ],
      "metadata": {
        "colab": {
          "base_uri": "https://localhost:8080/"
        },
        "id": "fiY3cGXZ6BT9",
        "outputId": "0c527f5e-e5e2-4cd2-cd34-c65cb2c8d8a1"
      },
      "execution_count": 22,
      "outputs": [
        {
          "output_type": "stream",
          "name": "stdout",
          "text": [
            "HELLO\n",
            "hello\n",
            "HELLO\n",
            "hello\n",
            "Invalid case\n"
          ]
        }
      ]
    },
    {
      "cell_type": "markdown",
      "source": [
        "9. Write a code to count the number of words in a string?"
      ],
      "metadata": {
        "id": "pOyfqjRNADah"
      }
    },
    {
      "cell_type": "code",
      "source": [
        "def count_words(s):\n",
        "  return len(s.split())\n",
        "\n",
        "print(count_words(\"hello world this is a test to count the number of words in a string\"))\n"
      ],
      "metadata": {
        "colab": {
          "base_uri": "https://localhost:8080/"
        },
        "id": "z62p1xOo6CKC",
        "outputId": "d4bf311c-86e0-4386-927b-73d3ffef785a"
      },
      "execution_count": 24,
      "outputs": [
        {
          "output_type": "stream",
          "name": "stdout",
          "text": [
            "15\n"
          ]
        }
      ]
    },
    {
      "cell_type": "markdown",
      "source": [
        "10. Write a code to concatenate two strings without using the + operator?"
      ],
      "metadata": {
        "id": "fYm3x5HO_5At"
      }
    },
    {
      "cell_type": "code",
      "source": [
        "def concatenate_strings(s1, s2):\n",
        "  return \"{}{}\".format(s1, s2)\n",
        "\n",
        "print(concatenate_strings(\"hello\", \"world\"))"
      ],
      "metadata": {
        "colab": {
          "base_uri": "https://localhost:8080/"
        },
        "id": "UmaaRnJ167Xi",
        "outputId": "3e6a8a7e-2ebf-4a4a-fd2d-852bb3356a12"
      },
      "execution_count": 28,
      "outputs": [
        {
          "output_type": "stream",
          "name": "stdout",
          "text": [
            "helloworld\n"
          ]
        }
      ]
    },
    {
      "cell_type": "markdown",
      "source": [
        "11. Write a code to remove all occurrences of a specific element from a list?"
      ],
      "metadata": {
        "id": "nABG1A387Dmj"
      }
    },
    {
      "cell_type": "code",
      "source": [
        "def remove_element(lst, element):\n",
        "  return [x for x in lst if x != element]\n",
        "\n",
        "print(remove_element([1, 2, 3, 4, 2, 2, 5], 2))\n"
      ],
      "metadata": {
        "colab": {
          "base_uri": "https://localhost:8080/"
        },
        "id": "HQz7cTJG73cq",
        "outputId": "01986a6d-2d53-4fa4-e10f-adcf47b67eb7"
      },
      "execution_count": 29,
      "outputs": [
        {
          "output_type": "stream",
          "name": "stdout",
          "text": [
            "[1, 3, 4, 5]\n"
          ]
        }
      ]
    },
    {
      "cell_type": "markdown",
      "source": [
        "12. Implement a code to find the second largest number in a given list of integers?"
      ],
      "metadata": {
        "id": "jKCyCHXL8CUn"
      }
    },
    {
      "cell_type": "code",
      "source": [
        "def second_largest(lst):\n",
        "  unique_lst = list(set(lst))\n",
        "  unique_lst.sort()\n",
        "  return unique_lst[-2]\n",
        "\n",
        "print(second_largest([1, 2, 3, 4, 5, 5, 6]))\n"
      ],
      "metadata": {
        "colab": {
          "base_uri": "https://localhost:8080/"
        },
        "id": "c5t-I5_z8O63",
        "outputId": "cb653876-74ce-4c69-91f9-beff50a006bb"
      },
      "execution_count": 30,
      "outputs": [
        {
          "output_type": "stream",
          "name": "stdout",
          "text": [
            "5\n"
          ]
        }
      ]
    },
    {
      "cell_type": "markdown",
      "source": [
        "13. Create a code to count the occurrences of each element in a list and return dictionary with elements as keys and their counts as values?"
      ],
      "metadata": {
        "id": "HQNBHrn5_oKJ"
      }
    },
    {
      "cell_type": "code",
      "source": [
        "def count_occurrences(lst):\n",
        "  return {x: lst.count(x) for x in set(lst)}\n",
        "\n",
        "print(count_occurrences([1, 2, 2, 3, 3, 3, 4]))\n"
      ],
      "metadata": {
        "colab": {
          "base_uri": "https://localhost:8080/"
        },
        "id": "4r0KD4BY9TO6",
        "outputId": "a073f0e6-68a0-4367-fe37-81aa5e5e88a7"
      },
      "execution_count": 35,
      "outputs": [
        {
          "output_type": "stream",
          "name": "stdout",
          "text": [
            "{1: 1, 2: 2, 3: 3, 4: 1}\n"
          ]
        }
      ]
    },
    {
      "cell_type": "markdown",
      "source": [
        "14. Write a code to reverse a list in-place without using any built-in reverse functions?"
      ],
      "metadata": {
        "id": "CjoPaRGs92vH"
      }
    },
    {
      "cell_type": "code",
      "source": [
        "def reverse_list(lst):\n",
        "  left, right = 0, len(lst) - 1\n",
        "  while left < right:\n",
        "    lst[left], lst[right] = lst[right], lst[left]\n",
        "    left += 1\n",
        "    right -= 1\n",
        "  return lst\n",
        "\n",
        "print(reverse_list([1, 2, 3, 4, 5]))\n"
      ],
      "metadata": {
        "colab": {
          "base_uri": "https://localhost:8080/"
        },
        "id": "Mm9gAqSi9_Vv",
        "outputId": "014ad9ab-9c57-4a78-b71d-cf6aa0d50931"
      },
      "execution_count": 31,
      "outputs": [
        {
          "output_type": "stream",
          "name": "stdout",
          "text": [
            "[5, 4, 3, 2, 1]\n"
          ]
        }
      ]
    },
    {
      "cell_type": "markdown",
      "source": [
        "15 Implement a code to find and remove duplicates from a list while preserving the original order of elements?"
      ],
      "metadata": {
        "id": "B8JFZHtTAfw6"
      }
    },
    {
      "cell_type": "code",
      "source": [
        "def remove_duplicates(lst):\n",
        "  seen = set()\n",
        "  result = []\n",
        "  for item in lst:\n",
        "    if item not in seen:\n",
        "      seen.add(item)\n",
        "      result.append(item)\n",
        "      return result\n",
        "\n",
        "print(remove_duplicates([1, 2, 2, 3, 4, 4, 5, 6, 6, 7, 8, 8]))\n",
        "\n",
        "def remove_duplicates(lst):\n",
        "  seen = set()\n",
        "  result = []\n",
        "  for item in lst:\n",
        "    if item not in seen:\n",
        "      seen.add(item)\n",
        "      result.append(item)\n",
        "    return result\n",
        "\n",
        "print(remove_duplicates([1, 2, 2, 3, 4, 4, 5]))\n"
      ],
      "metadata": {
        "colab": {
          "base_uri": "https://localhost:8080/"
        },
        "id": "_gfl4M-UAqBe",
        "outputId": "d4bb2e7e-4423-4553-f216-f52371a5f113"
      },
      "execution_count": 39,
      "outputs": [
        {
          "output_type": "stream",
          "name": "stdout",
          "text": [
            "[1]\n",
            "[1]\n"
          ]
        }
      ]
    },
    {
      "cell_type": "markdown",
      "source": [
        "16. Create a code to check if a given list is sorted (either in ascending or descending order) or not?"
      ],
      "metadata": {
        "id": "qPVOFI6VBnxj"
      }
    },
    {
      "cell_type": "code",
      "source": [
        "def is_sorted(lst):\n",
        "  return lst == sorted(lst) or lst == sorted(lst, reverse=True)\n",
        "\n",
        "print(is_sorted([1, 2, 3, 4, 5]))\n",
        "print(is_sorted([5, 4, 3, 2, 1]))\n",
        "print(is_sorted([1, 3, 2, 4, 5]))\n"
      ],
      "metadata": {
        "colab": {
          "base_uri": "https://localhost:8080/"
        },
        "id": "j5f13992BseB",
        "outputId": "aecbd789-ea31-4ef1-993a-4ae9fba0ea80"
      },
      "execution_count": 40,
      "outputs": [
        {
          "output_type": "stream",
          "name": "stdout",
          "text": [
            "True\n",
            "True\n",
            "False\n"
          ]
        }
      ]
    },
    {
      "cell_type": "markdown",
      "source": [
        "17. Write a code to merge two sorted lists into a single sorted list?"
      ],
      "metadata": {
        "id": "0zwn4DOVEepv"
      }
    },
    {
      "cell_type": "code",
      "source": [
        "def merge_sorted_lists(lst1, lst2):\n",
        "  return sorted(lst1 + lst2)\n",
        "\n",
        "print(merge_sorted_lists([1, 3, 5], [2, 4, 6]))"
      ],
      "metadata": {
        "colab": {
          "base_uri": "https://localhost:8080/"
        },
        "id": "dSJprkS7EsLi",
        "outputId": "abe5cd12-29e4-497b-a558-87949e680832"
      },
      "execution_count": 41,
      "outputs": [
        {
          "output_type": "stream",
          "name": "stdout",
          "text": [
            "[1, 2, 3, 4, 5, 6]\n"
          ]
        }
      ]
    },
    {
      "cell_type": "markdown",
      "source": [
        "18. Implement a code to find the intersection of two given lists?"
      ],
      "metadata": {
        "id": "Z1P6tLllE7Ub"
      }
    },
    {
      "cell_type": "code",
      "source": [
        "def intersection(lst1, lst2):\n",
        "  return list(set(lst1) & set(lst2))\n",
        "\n",
        "print(intersection([1, 2, 3], [2, 3, 4]))\n"
      ],
      "metadata": {
        "colab": {
          "base_uri": "https://localhost:8080/"
        },
        "id": "c7gMAafPFHz0",
        "outputId": "009a69e2-fc0b-49df-ada9-86dab69d9ddf"
      },
      "execution_count": 42,
      "outputs": [
        {
          "output_type": "stream",
          "name": "stdout",
          "text": [
            "[2, 3]\n"
          ]
        }
      ]
    },
    {
      "cell_type": "markdown",
      "source": [
        "19. Create a code to find the union of two lists without duplicates?"
      ],
      "metadata": {
        "id": "fmyzEGF4FYLs"
      }
    },
    {
      "cell_type": "code",
      "source": [
        "def union(lst1, lst2):\n",
        "  return list(set(lst1) | set(lst2))\n",
        "\n",
        "print(union([1, 2, 3], [2, 3, 4]))"
      ],
      "metadata": {
        "colab": {
          "base_uri": "https://localhost:8080/"
        },
        "id": "dxr1suufFezf",
        "outputId": "3c8867b9-d6f9-4557-dd61-8b0cbd0b3dfe"
      },
      "execution_count": 43,
      "outputs": [
        {
          "output_type": "stream",
          "name": "stdout",
          "text": [
            "[1, 2, 3, 4]\n"
          ]
        }
      ]
    },
    {
      "cell_type": "markdown",
      "source": [
        "20. Write a code to shuffle a given list randomly without using any built-in shuffle functions?"
      ],
      "metadata": {
        "id": "j2zwWyEeFtsJ"
      }
    },
    {
      "cell_type": "code",
      "source": [
        "import random\n",
        "def shuffle_list(lst):\n",
        "  shuffled = lst[:]\n",
        "  random.shuffle(shuffled)\n",
        "  return shuffled\n",
        "\n",
        "print(shuffle_list([1, 2, 3, 4, 5]))"
      ],
      "metadata": {
        "colab": {
          "base_uri": "https://localhost:8080/"
        },
        "id": "jgBQsrxPFz9y",
        "outputId": "b867375d-1515-4804-fc0a-05cd1dedba3b"
      },
      "execution_count": 44,
      "outputs": [
        {
          "output_type": "stream",
          "name": "stdout",
          "text": [
            "[3, 2, 1, 5, 4]\n"
          ]
        }
      ]
    },
    {
      "cell_type": "markdown",
      "source": [
        "21. Write a code that takes two tuples as input and returns a new tuple containing elements that are common to both input tuples?"
      ],
      "metadata": {
        "id": "tRgb5g65GJoM"
      }
    },
    {
      "cell_type": "code",
      "source": [
        "def common_elements(tup1, tup2):\n",
        "  return tuple(set(tup1) & set(tup2))\n",
        "\n",
        "print(common_elements((1, 2, 3), (2, 3, 4)))\n"
      ],
      "metadata": {
        "colab": {
          "base_uri": "https://localhost:8080/"
        },
        "id": "HyLqLB0OHPsH",
        "outputId": "6a26bf47-d25b-48d8-d5f6-874188b7fec9"
      },
      "execution_count": 45,
      "outputs": [
        {
          "output_type": "stream",
          "name": "stdout",
          "text": [
            "(2, 3)\n"
          ]
        }
      ]
    },
    {
      "cell_type": "markdown",
      "source": [
        "22. Create a code that prompts the user to enter two sets of integers separated by commas. Then, print the intersection of these two sets?"
      ],
      "metadata": {
        "id": "LlVJRkWGHcm4"
      }
    },
    {
      "cell_type": "code",
      "source": [
        "def intersection_of_sets(set1, set2):\n",
        "  return set1 & set2\n",
        "\n",
        "set1 = set(map(int, input(\"Enter first set of integers: \").split(',')))\n",
        "set2 = set(map(int, input(\"Enter second set of integers: \").split(',')))\n",
        "print(intersection_of_sets(set1, set2))"
      ],
      "metadata": {
        "colab": {
          "base_uri": "https://localhost:8080/"
        },
        "id": "AJwTnSU3Hmvm",
        "outputId": "2d64ac70-6040-4ad4-e068-18709509d251"
      },
      "execution_count": 46,
      "outputs": [
        {
          "output_type": "stream",
          "name": "stdout",
          "text": [
            "Enter first set of integers: 2 ,5,3,7\n",
            "Enter second set of integers: 3,4,6,8,9\n",
            "{3}\n"
          ]
        }
      ]
    },
    {
      "cell_type": "markdown",
      "source": [
        "23. Write a code to concatenate two tuples. The function should take two tuples as input and return a new tuple containing elements from both input tuples."
      ],
      "metadata": {
        "id": "EUM5PXUrIDL3"
      }
    },
    {
      "cell_type": "code",
      "source": [
        "def concatenate_tuples(tup1, tup2):\n",
        "  return tup1 + tup2\n",
        "\n",
        "print(concatenate_tuples((1, 2, 3), (4, 5, 6)))\n"
      ],
      "metadata": {
        "colab": {
          "base_uri": "https://localhost:8080/"
        },
        "id": "wimBrHdkII8i",
        "outputId": "711524f5-a57e-4c09-99da-74ede4bfeabe"
      },
      "execution_count": 47,
      "outputs": [
        {
          "output_type": "stream",
          "name": "stdout",
          "text": [
            "(1, 2, 3, 4, 5, 6)\n"
          ]
        }
      ]
    },
    {
      "cell_type": "markdown",
      "source": [
        "24. Develop a code that prompts the user to input two sets of strings. Then, print the elements that are present in the first set but not in the second set?"
      ],
      "metadata": {
        "id": "Pnqi5zaoIZGj"
      }
    },
    {
      "cell_type": "code",
      "source": [
        "def difference_of_sets(set1, set2):\n",
        "  return set1 - set2\n",
        "\n",
        "set1 = set(input(\"Enter first set of strings: \").split(','))\n",
        "set2 = set(input(\"Enter second set of strings: \").split(','))\n",
        "print(difference_of_sets(set1, set2))"
      ],
      "metadata": {
        "colab": {
          "base_uri": "https://localhost:8080/"
        },
        "id": "MT2NlXrTIlSC",
        "outputId": "dab284a2-0ec4-49d7-dec2-60795ac4ae1b"
      },
      "execution_count": 49,
      "outputs": [
        {
          "output_type": "stream",
          "name": "stdout",
          "text": [
            "Enter first set of strings: 2,3,4,5,6\n",
            "Enter second set of strings: 4,5,6,7,8,9\n",
            "{'3', '2'}\n"
          ]
        }
      ]
    },
    {
      "cell_type": "markdown",
      "source": [
        "25. Create a code that takes a tuple and two integers as input. The function should return a new tuple containing elements from the original tuple within the specified range of indices?"
      ],
      "metadata": {
        "id": "LZPGL_vqJa_K"
      }
    },
    {
      "cell_type": "code",
      "source": [
        "def elements_in_range(tup, start, end):\n",
        "  return tup[start:end+1]\n",
        "\n",
        "print(elements_in_range((1, 2, 3, 4, 5), 1, 3))\n"
      ],
      "metadata": {
        "colab": {
          "base_uri": "https://localhost:8080/"
        },
        "id": "sP-MvDaUJmtG",
        "outputId": "c79603d6-798f-49d2-f170-c5fe54c26256"
      },
      "execution_count": 50,
      "outputs": [
        {
          "output_type": "stream",
          "name": "stdout",
          "text": [
            "(2, 3, 4)\n"
          ]
        }
      ]
    },
    {
      "cell_type": "markdown",
      "source": [
        "26. Write a code that prompts the user to input two sets of characters. Then, print the union of these two sets?"
      ],
      "metadata": {
        "id": "Mw6NN_blJv5r"
      }
    },
    {
      "cell_type": "code",
      "source": [
        "def union_of_sets(set1, set2):\n",
        "  return set1 | set2\n",
        "\n",
        "set1 = set(input(\"Enter first set of characters: \").split(','))\n",
        "set2 = set(input(\"Enter second set of characters: \").split(','))\n",
        "print(union_of_sets(set1, set2))"
      ],
      "metadata": {
        "colab": {
          "base_uri": "https://localhost:8080/"
        },
        "id": "OSHwoc64J5Sj",
        "outputId": "f9cf278d-6d9c-429a-9953-6737b5482960"
      },
      "execution_count": 52,
      "outputs": [
        {
          "output_type": "stream",
          "name": "stdout",
          "text": [
            "Enter first set of characters: A, B, C, D, E, Z\n",
            "Enter second set of characters: a, b, c, d, e, f, z\n",
            "{'a', 'A', ' e', ' b', ' D', ' d', ' Z', ' f', ' c', ' z', ' E', ' C', ' B'}\n"
          ]
        }
      ]
    },
    {
      "cell_type": "markdown",
      "source": [
        "27. Develop a code that takes a tuple of integers as input. The function should return the maximum and minimum values from the tuple using tuple unpacking?"
      ],
      "metadata": {
        "id": "FhvdJSvfPQQA"
      }
    },
    {
      "cell_type": "code",
      "source": [
        "def max_min_tuple(tup):\n",
        "  return max(tup), min(tup)\n",
        "\n",
        "print(max_min_tuple((1, 2, 3, 4, 5)))"
      ],
      "metadata": {
        "colab": {
          "base_uri": "https://localhost:8080/"
        },
        "id": "ZeGPjdUZPblz",
        "outputId": "4aa724ca-2160-4fc0-eb21-5d43408d9509"
      },
      "execution_count": 53,
      "outputs": [
        {
          "output_type": "stream",
          "name": "stdout",
          "text": [
            "(5, 1)\n"
          ]
        }
      ]
    },
    {
      "cell_type": "markdown",
      "source": [
        "28. Create a code that defines two sets of integers. Then, print the union, intersection, and difference of these two sets?"
      ],
      "metadata": {
        "id": "Ii-Vna-JPzc-"
      }
    },
    {
      "cell_type": "code",
      "source": [
        "def set_operations(set1, set2):\n",
        "  return set1 | set2, set1 & set2, set1 - set2\n",
        "\n",
        "set1 = {1, 2, 3}\n",
        "set2 = {2, 3, 4}\n",
        "print(set_operations(set1, set2))"
      ],
      "metadata": {
        "colab": {
          "base_uri": "https://localhost:8080/"
        },
        "id": "l0eFHso9P7uL",
        "outputId": "f816dc52-2bce-4167-bd98-a58c2cf87369"
      },
      "execution_count": 54,
      "outputs": [
        {
          "output_type": "stream",
          "name": "stdout",
          "text": [
            "({1, 2, 3, 4}, {2, 3}, {1})\n"
          ]
        }
      ]
    },
    {
      "cell_type": "markdown",
      "source": [
        "29. Write a code that takes a tuple and an element as input. The function should return the count of occurrences of the given element in the tuple?"
      ],
      "metadata": {
        "id": "JbD3W4yBQFy6"
      }
    },
    {
      "cell_type": "code",
      "source": [
        "def count_occurrences_in_tuple(tup, element):\n",
        "  return tup.count(element)\n",
        "\n",
        "print(count_occurrences_in_tuple((1, 2, 2, 3, 4), 2))"
      ],
      "metadata": {
        "colab": {
          "base_uri": "https://localhost:8080/"
        },
        "id": "C32tP3KDQPdu",
        "outputId": "7e0b2ac4-2513-4402-fcb6-260c2f0b6732"
      },
      "execution_count": 55,
      "outputs": [
        {
          "output_type": "stream",
          "name": "stdout",
          "text": [
            "2\n"
          ]
        }
      ]
    },
    {
      "cell_type": "markdown",
      "source": [
        "30. Develop a code that prompts the user to input two sets of strings. Then, print the symmetric difference of these two sets?"
      ],
      "metadata": {
        "id": "F2sqmz3wQaqw"
      }
    },
    {
      "cell_type": "code",
      "source": [
        "def symmetric_difference_of_sets(set1, set2):\n",
        "  return set1 ^ set2\n",
        "\n",
        "set1 = set(input(\"Enter first set of strings: \").split(','))\n",
        "set2 = set(input(\"Enter second set of strings: \").split(','))\n",
        "print(symmetric_difference_of_sets(set1, set2))"
      ],
      "metadata": {
        "colab": {
          "base_uri": "https://localhost:8080/"
        },
        "id": "1f3skYPlQj9U",
        "outputId": "d5510a3a-6ebb-4155-fe33-2669906ea241"
      },
      "execution_count": 56,
      "outputs": [
        {
          "output_type": "stream",
          "name": "stdout",
          "text": [
            "Enter first set of strings: 'a', 'e', 'i', 'o', 'u'\n",
            "Enter second set of strings: 'A', 'E', 'I', 'O', 'U'\n",
            "{\" 'o'\", \" 'U'\", \" 'u'\", \" 'E'\", \" 'I'\", \" 'O'\", \"'a'\", \" 'e'\", \" 'i'\", \"'A'\"}\n"
          ]
        }
      ]
    },
    {
      "cell_type": "markdown",
      "source": [
        "31. Write a code that takes a list of words as input and returns a dictionary where the keys are unique words and the values are the frequencies of those words in the input list?"
      ],
      "metadata": {
        "id": "lQUiAhPvR5Th"
      }
    },
    {
      "cell_type": "code",
      "source": [
        "def word_frequency(lst):\n",
        "  return {word: lst.count(word) for word in set(lst)}\n",
        "\n",
        "print(word_frequency([\"apple\", \"banana\", \"apple\", \"orange\", \"banana\", \"apple\"]))"
      ],
      "metadata": {
        "colab": {
          "base_uri": "https://localhost:8080/"
        },
        "id": "biiQwshxSDth",
        "outputId": "c9cae3a0-7bc8-44ab-df8b-4ed1b20ffce0"
      },
      "execution_count": 57,
      "outputs": [
        {
          "output_type": "stream",
          "name": "stdout",
          "text": [
            "{'banana': 2, 'orange': 1, 'apple': 3}\n"
          ]
        }
      ]
    },
    {
      "cell_type": "markdown",
      "source": [
        "32. Write a code that takes two dictionaries as input and merges them into a single dictionary. If there are common keys, the values should be added together?"
      ],
      "metadata": {
        "id": "wSEa9pA2SPHg"
      }
    },
    {
      "cell_type": "code",
      "source": [
        "dict1 = {'x': 1, 'y': 2}\n",
        "dict2 = {'y': 3, 'z': 4}\n",
        "def merge_dictionaries(dict1, dict2):\n",
        " merged = dict1\n",
        " for key, value in dict2.items():\n",
        "  if key in merged:\n",
        "    merged[key] += value\n",
        "  else:\n",
        "    merged[key] = value\n",
        "  return merged\n",
        "\n",
        "print(merge_dictionaries(dict1, dict2))"
      ],
      "metadata": {
        "colab": {
          "base_uri": "https://localhost:8080/"
        },
        "id": "U8BhJk46SUKE",
        "outputId": "b7ae1034-076d-4278-8d3f-ebcc4248083c"
      },
      "execution_count": 62,
      "outputs": [
        {
          "output_type": "stream",
          "name": "stdout",
          "text": [
            "{'x': 1, 'y': 5}\n"
          ]
        }
      ]
    },
    {
      "cell_type": "markdown",
      "source": [
        "33. Write a code to access a value in a nested dictionary. The function should take the dictionary and a list of keys as input, and return the corresponding value. If any of the keys do not exist in the dictionary, the function should return None?"
      ],
      "metadata": {
        "id": "W7ovLtqvV-xz"
      }
    },
    {
      "cell_type": "code",
      "source": [
        "def get_nested_value(d, keys):\n",
        "  for key in keys:\n",
        "    if isinstance(d, dict):\n",
        "      d = d.get(key)\n",
        "    else:\n",
        "      return None\n",
        "      return d\n",
        "nested_dict = {'a': {'b': {'c': 'd'}}}\n",
        "keys = ['a', 'b', 'c']\n",
        "print(get_nested_value(nested_dict, keys))  # Output: 'd'\n",
        "def get_nested_value(data, keys):\n",
        "  \"\"\"Accesses a value in a nested dictionary.\n",
        "\n",
        "  Args:\n",
        "    data: The nested dictionary.\n",
        "    keys: A list of keys to access the value.\n",
        "\n",
        "  Returns:\n",
        "    The corresponding value, or None if any of the keys do not exist.\n",
        "  \"\"\"\n",
        "  current_level = data\n",
        "  for key in keys:\n",
        "    if isinstance(current_level, dict) and key in current_level:\n",
        "      current_level = current_level[key]\n",
        "    else:\n",
        "      return None  # Key not found at this level\n",
        "  return current_level\n",
        "\n",
        "# Example usage\n",
        "nested_dict = {'a': {'b': {'c': 'd'}}}\n",
        "keys = ['a', 'b', 'c']\n",
        "value = get_nested_value(nested_dict, keys)\n",
        "print(value)  # Output: 'd'\n",
        "\n",
        "keys = ['a', 'x', 'c']\n",
        "value = get_nested_value(nested_dict, keys)\n",
        "print(value)  # Output: None\n"
      ],
      "metadata": {
        "colab": {
          "base_uri": "https://localhost:8080/"
        },
        "id": "pYTzyNGsWZls",
        "outputId": "4829cae5-4c0b-458d-ae69-c33c42ef4aab"
      },
      "execution_count": 66,
      "outputs": [
        {
          "output_type": "stream",
          "name": "stdout",
          "text": [
            "None\n",
            "d\n",
            "None\n"
          ]
        }
      ]
    },
    {
      "cell_type": "markdown",
      "source": [
        "34. Write a code that takes a dictionary as input and returns a sorted version of it based on the values. You can choose whether to sort in ascending or descending order?"
      ],
      "metadata": {
        "id": "3mJkBdGBYrtY"
      }
    },
    {
      "cell_type": "code",
      "source": [
        "def sort_dict_by_values(d, ascending=True):\n",
        "  return dict(sorted(d.items(), key=lambda item: item[1], reverse=not ascending))\n",
        "\n",
        "unsorted_dict = {'a': 3, 'b': 1, 'c': 2}\n",
        "print(sort_dict_by_values(unsorted_dict))  # Output: {'b': 1, 'c': 2, 'a': 3}\n",
        "print(sort_dict_by_values(unsorted_dict, ascending=False))  # Output: {'a': 3, 'c': 2, 'b': 1}"
      ],
      "metadata": {
        "colab": {
          "base_uri": "https://localhost:8080/"
        },
        "id": "1qoHaJ8JYy2L",
        "outputId": "56278974-5aa1-46fa-a7da-5e78d37dd5c1"
      },
      "execution_count": 67,
      "outputs": [
        {
          "output_type": "stream",
          "name": "stdout",
          "text": [
            "{'b': 1, 'c': 2, 'a': 3}\n",
            "{'a': 3, 'c': 2, 'b': 1}\n"
          ]
        }
      ]
    },
    {
      "cell_type": "markdown",
      "source": [
        "35. Write a code that inverts a dictionary, swapping keys and values. Ensure that the inverted dictionary correctly handles cases where multiple keys have the same value by storing the keys as a list in the inverted dictionary."
      ],
      "metadata": {
        "id": "qQ1MfhNtY7h-"
      }
    },
    {
      "cell_type": "code",
      "source": [
        "def invert_dict(d):\n",
        "  inverted = {}\n",
        "  for key, value in d.items():\n",
        "    if value not in inverted:\n",
        "      inverted[value] = [key]\n",
        "    else:\n",
        "      inverted[value].append(key)\n",
        "    return inverted\n",
        "\n",
        "original_dict = {'a': 1, 'b': 2, 'c': 1}\n",
        "print(invert_dict(original_dict))  # Output: {1: ['a', 'c'], 2: ['b']}"
      ],
      "metadata": {
        "colab": {
          "base_uri": "https://localhost:8080/"
        },
        "id": "aJvBJ-UeZFVy",
        "outputId": "759a85a0-292b-4ee3-e9a0-08cb2dbd5383"
      },
      "execution_count": 69,
      "outputs": [
        {
          "output_type": "stream",
          "name": "stdout",
          "text": [
            "{1: ['a']}\n"
          ]
        }
      ]
    }
  ]
}